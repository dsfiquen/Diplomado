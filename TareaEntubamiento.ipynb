{
  "nbformat": 4,
  "nbformat_minor": 0,
  "metadata": {
    "colab": {
      "name": "TareaEntubamiento.ipynb",
      "provenance": [],
      "authorship_tag": "ABX9TyMqWHAsJz/cWYB/9o4uWf3c",
      "include_colab_link": true
    },
    "kernelspec": {
      "display_name": "Python 3",
      "name": "python3"
    },
    "language_info": {
      "name": "python"
    }
  },
  "cells": [
    {
      "cell_type": "markdown",
      "metadata": {
        "id": "view-in-github",
        "colab_type": "text"
      },
      "source": [
        "<a href=\"https://colab.research.google.com/github/dsfiquen/Diplomado/blob/master/TareaEntubamiento.ipynb\" target=\"_parent\"><img src=\"https://colab.research.google.com/assets/colab-badge.svg\" alt=\"Open In Colab\"/></a>"
      ]
    },
    {
      "cell_type": "markdown",
      "metadata": {
        "id": "3dwmxM64eia4"
      },
      "source": [
        "## **I. IMPORTAR LIBRERIAS**"
      ]
    },
    {
      "cell_type": "code",
      "metadata": {
        "id": "fbgT33NReXhO"
      },
      "source": [
        "import tensorflow as tf\n",
        "import tensorflow_datasets as tfds\n",
        "\n",
        "import pathlib\n",
        "import os\n",
        "import matplotlib.pyplot as plt\n",
        "import pandas as pd\n",
        "import numpy as np\n",
        "\n",
        "np.set_printoptions(precision=4) #No sé qué hace aún"
      ],
      "execution_count": 1,
      "outputs": []
    },
    {
      "cell_type": "markdown",
      "metadata": {
        "id": "zDiAL6wUe_yv"
      },
      "source": [
        "##**II. ESENCIALES**"
      ]
    },
    {
      "cell_type": "code",
      "metadata": {
        "colab": {
          "base_uri": "https://localhost:8080/"
        },
        "id": "FxzY1mBPachP",
        "outputId": "6801b4e9-d3c2-4657-8519-bebabffd8f16"
      },
      "source": [
        "from google.colab import drive\n",
        "drive.mount('/content/gdrive')"
      ],
      "execution_count": 34,
      "outputs": [
        {
          "output_type": "stream",
          "text": [
            "Drive already mounted at /content/gdrive; to attempt to forcibly remount, call drive.mount(\"/content/gdrive\", force_remount=True).\n"
          ],
          "name": "stdout"
        }
      ]
    },
    {
      "cell_type": "code",
      "metadata": {
        "colab": {
          "base_uri": "https://localhost:8080/"
        },
        "id": "Ua4EYSik3ddp",
        "outputId": "a4f82c37-3dbc-4f07-d589-2bea926091a8"
      },
      "source": [
        "directory_url = 'https://drive.google.com/drive/folders/1nxlbqg2YgBVNAUo-XhGtxV0LbnVKT85a?usp=sharing'\n",
        "file_names = ['Fake.csv', 'True.csv']\n",
        "\n",
        "file_paths = [\n",
        "    tf.keras.utils.get_file(file_name, directory_url +file_name)\n",
        "    for file_name in file_names\n",
        "]"
      ],
      "execution_count": 44,
      "outputs": [
        {
          "output_type": "stream",
          "text": [
            "Downloading data from https://drive.google.com/drive/folders/1nxlbqg2YgBVNAUo-XhGtxV0LbnVKT85a?usp=sharingFake.csv\n",
            "   8192/Unknown - 0s 0us/stepDownloading data from https://drive.google.com/drive/folders/1nxlbqg2YgBVNAUo-XhGtxV0LbnVKT85a?usp=sharingTrue.csv\n",
            "   8192/Unknown - 0s 0us/step"
          ],
          "name": "stdout"
        }
      ]
    },
    {
      "cell_type": "code",
      "metadata": {
        "colab": {
          "base_uri": "https://localhost:8080/"
        },
        "id": "DflOmmsf58cU",
        "outputId": "683d7b67-87d3-40ca-cbc6-e78a90e68f4f"
      },
      "source": [
        "file_paths"
      ],
      "execution_count": 45,
      "outputs": [
        {
          "output_type": "execute_result",
          "data": {
            "text/plain": [
              "['/root/.keras/datasets/Fake.csv', '/root/.keras/datasets/True.csv']"
            ]
          },
          "metadata": {
            "tags": []
          },
          "execution_count": 45
        }
      ]
    },
    {
      "cell_type": "code",
      "metadata": {
        "id": "J7odsAVp6FS1"
      },
      "source": [
        "dataset = tf.data.TextLineDataset(file_paths)"
      ],
      "execution_count": 46,
      "outputs": []
    },
    {
      "cell_type": "markdown",
      "metadata": {
        "id": "Z7t8YMV-mQJ7"
      },
      "source": [
        "## **III. CONSUMIR DATOS DE TEXTO**"
      ]
    },
    {
      "cell_type": "code",
      "metadata": {
        "id": "Tx7gUV5Xmuyy",
        "colab": {
          "base_uri": "https://localhost:8080/"
        },
        "outputId": "8f01a25e-e042-4a2d-df66-bdf15ebacc93"
      },
      "source": [
        "for line in dataset.take(5):\n",
        "    print(line.numpy())"
      ],
      "execution_count": 47,
      "outputs": [
        {
          "output_type": "stream",
          "text": [
            "b''\n",
            "b'<!DOCTYPE html>'\n",
            "b'<html lang=\"en\">'\n",
            "b'  <head>'\n",
            "b'  <meta charset=\"utf-8\">'\n"
          ],
          "name": "stdout"
        }
      ]
    },
    {
      "cell_type": "code",
      "metadata": {
        "id": "K_6bzzNGnOf9"
      },
      "source": [
        "file_ds = tf.data.Dataset.from_tensor_slices(file_paths)"
      ],
      "execution_count": 49,
      "outputs": []
    },
    {
      "cell_type": "code",
      "metadata": {
        "colab": {
          "base_uri": "https://localhost:8080/"
        },
        "id": "C6g5KcSx6pnF",
        "outputId": "4adeeacb-bcf8-4040-ef55-fe34b8acee96"
      },
      "source": [
        "for i in file_ds: print(i.numpy())"
      ],
      "execution_count": 50,
      "outputs": [
        {
          "output_type": "stream",
          "text": [
            "b'/root/.keras/datasets/Fake.csv'\n",
            "b'/root/.keras/datasets/True.csv'\n"
          ],
          "name": "stdout"
        }
      ]
    },
    {
      "cell_type": "code",
      "metadata": {
        "colab": {
          "base_uri": "https://localhost:8080/"
        },
        "id": "C-Al6kba6t6E",
        "outputId": "3f351a0a-cf48-411b-a465-6b72f89fe05c"
      },
      "source": [
        "line_ds = file_ds.interleave(tf.data.TextLineDataset, cycle_length=3)\n",
        "\n",
        "for i, line in enumerate(line_ds.take(9)):\n",
        "    if i%3 ==0:\n",
        "        print()\n",
        "    print(line.numpy())"
      ],
      "execution_count": 53,
      "outputs": [
        {
          "output_type": "stream",
          "text": [
            "\n",
            "b''\n",
            "b''\n",
            "b'<!DOCTYPE html>'\n",
            "\n",
            "b'<!DOCTYPE html>'\n",
            "b'<html lang=\"en\">'\n",
            "b'<html lang=\"en\">'\n",
            "\n",
            "b'  <head>'\n",
            "b'  <head>'\n",
            "b'  <meta charset=\"utf-8\">'\n"
          ],
          "name": "stdout"
        }
      ]
    }
  ]
}